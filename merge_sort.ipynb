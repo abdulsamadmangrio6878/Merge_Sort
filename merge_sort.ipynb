{
 "cells": [
  {
   "cell_type": "code",
   "execution_count": 10,
   "metadata": {},
   "outputs": [
    {
     "ename": "TypeError",
     "evalue": "'int' object is not iterable",
     "output_type": "error",
     "traceback": [
      "\u001b[1;31m---------------------------------------------------------------------------\u001b[0m",
      "\u001b[1;31mTypeError\u001b[0m                                 Traceback (most recent call last)",
      "Cell \u001b[1;32mIn[10], line 49\u001b[0m\n\u001b[0;32m     45\u001b[0m     result \u001b[39m+\u001b[39m\u001b[39m=\u001b[39m right_half[right_index]\n\u001b[0;32m     47\u001b[0m     \u001b[39mreturn\u001b[39;00m result\n\u001b[1;32m---> 49\u001b[0m merge_sort([\u001b[39m6\u001b[39;49m,\u001b[39m5\u001b[39;49m,\u001b[39m4\u001b[39;49m,\u001b[39m3\u001b[39;49m,\u001b[39m2\u001b[39;49m,\u001b[39m1\u001b[39;49m])\n",
      "Cell \u001b[1;32mIn[10], line 10\u001b[0m, in \u001b[0;36mmerge_sort\u001b[1;34m(data)\u001b[0m\n\u001b[0;32m      6\u001b[0m left_half \u001b[39m=\u001b[39m data[:mid]\n\u001b[0;32m      7\u001b[0m right_half \u001b[39m=\u001b[39m data[mid:]\n\u001b[1;32m---> 10\u001b[0m left_half \u001b[39m=\u001b[39m merge_sort(left_half)\n\u001b[0;32m     11\u001b[0m right_half \u001b[39m=\u001b[39m merge_sort(right_half)\n\u001b[0;32m     14\u001b[0m \u001b[39mreturn\u001b[39;00m merge(left_half,right_half)\n",
      "Cell \u001b[1;32mIn[10], line 11\u001b[0m, in \u001b[0;36mmerge_sort\u001b[1;34m(data)\u001b[0m\n\u001b[0;32m      7\u001b[0m right_half \u001b[39m=\u001b[39m data[mid:]\n\u001b[0;32m     10\u001b[0m left_half \u001b[39m=\u001b[39m merge_sort(left_half)\n\u001b[1;32m---> 11\u001b[0m right_half \u001b[39m=\u001b[39m merge_sort(right_half)\n\u001b[0;32m     14\u001b[0m \u001b[39mreturn\u001b[39;00m merge(left_half,right_half)\n",
      "Cell \u001b[1;32mIn[10], line 14\u001b[0m, in \u001b[0;36mmerge_sort\u001b[1;34m(data)\u001b[0m\n\u001b[0;32m     10\u001b[0m left_half \u001b[39m=\u001b[39m merge_sort(left_half)\n\u001b[0;32m     11\u001b[0m right_half \u001b[39m=\u001b[39m merge_sort(right_half)\n\u001b[1;32m---> 14\u001b[0m \u001b[39mreturn\u001b[39;00m merge(left_half,right_half)\n",
      "Cell \u001b[1;32mIn[10], line 43\u001b[0m, in \u001b[0;36mmerge\u001b[1;34m(left_half, right_half)\u001b[0m\n\u001b[0;32m     36\u001b[0m         result\u001b[39m.\u001b[39mappend(right_half[right_index])\n\u001b[0;32m     39\u001b[0m         right_index \u001b[39m+\u001b[39m\u001b[39m=\u001b[39m \u001b[39m1\u001b[39m\n\u001b[1;32m---> 43\u001b[0m result \u001b[39m+\u001b[39;49m\u001b[39m=\u001b[39;49m left_half[left_index]\n\u001b[0;32m     45\u001b[0m result \u001b[39m+\u001b[39m\u001b[39m=\u001b[39m right_half[right_index]\n\u001b[0;32m     47\u001b[0m \u001b[39mreturn\u001b[39;00m result\n",
      "\u001b[1;31mTypeError\u001b[0m: 'int' object is not iterable"
     ]
    }
   ],
   "source": [
    "def merge_sort(data):\n",
    "    if len(data) <= 1:\n",
    "        return data\n",
    "    \n",
    "    mid = len(data)//2\n",
    "    left_half = data[:mid]\n",
    "    right_half = data[mid:]\n",
    "\n",
    "\n",
    "    left_half = merge_sort(left_half)\n",
    "    right_half = merge_sort(right_half)\n",
    "\n",
    "\n",
    "    return merge(left_half,right_half)\n",
    "\n",
    "def merge(left_half,right_half):\n",
    "    \n",
    "    result = []\n",
    "\n",
    "    left_index = 0\n",
    "    right_index = 0\n",
    "\n",
    "\n",
    "    while left_index < len(left_half) and right_index < len(right_half):\n",
    "\n",
    "\n",
    "        if left_half[left_index] < right_half[right_index]:\n",
    "\n",
    "\n",
    "            result.append(left_half[left_index])\n",
    "\n",
    "\n",
    "            left_index += 1\n",
    "\n",
    "        else:\n",
    "            result.append(right_half[right_index])\n",
    "\n",
    "\n",
    "            right_index += 1\n",
    "\n",
    "\n",
    "            \n",
    "    result += left_half[left_index]\n",
    "    \n",
    "    result += right_half[right_index]\n",
    "\n",
    "    return result\n",
    "\n",
    "merge_sort([6,5,4,3,2,1])"
   ]
  },
  {
   "cell_type": "code",
   "execution_count": 17,
   "metadata": {},
   "outputs": [
    {
     "data": {
      "text/plain": [
       "[3, 4, 4, 6, 7, 8, 9]"
      ]
     },
     "execution_count": 17,
     "metadata": {},
     "output_type": "execute_result"
    }
   ],
   "source": [
    "def merge_sort(arr):\n",
    "    if len(arr) <= 1:\n",
    "        return arr\n",
    "\n",
    "    mid = len(arr) // 2\n",
    "    left_half = arr[:mid]\n",
    "    right_half = arr[mid:]  \n",
    "\n",
    "    left_half = merge_sort(left_half)\n",
    "    right_half = merge_sort(right_half)\n",
    "\n",
    "    return merge(left_half, right_half)\n",
    "\n",
    "def merge(left_half, right_half):\n",
    "    result = []\n",
    "    left_index = 0\n",
    "    right_index = 0\n",
    "\n",
    "    while left_index < len(left_half) and right_index < len(right_half):\n",
    "        if left_half[left_index] < right_half[right_index]:\n",
    "            result.append(left_half[left_index])\n",
    "            left_index += 1\n",
    "        else:\n",
    "            result.append(right_half[right_index])\n",
    "            right_index += 1\n",
    "\n",
    "    result += left_half[left_index:]\n",
    "    result += right_half[right_index:]\n",
    "\n",
    "    return result\n",
    "merge_sort([9,8,7,6,4,4,3])\n"
   ]
  },
  {
   "cell_type": "code",
   "execution_count": 6,
   "metadata": {},
   "outputs": [
    {
     "ename": "TypeError",
     "evalue": "object of type 'int' has no len()",
     "output_type": "error",
     "traceback": [
      "\u001b[1;31m---------------------------------------------------------------------------\u001b[0m",
      "\u001b[1;31mTypeError\u001b[0m                                 Traceback (most recent call last)",
      "Cell \u001b[1;32mIn[6], line 35\u001b[0m\n\u001b[0;32m     32\u001b[0m     result \u001b[39m+\u001b[39m\u001b[39m=\u001b[39m Right_Half[Right_Index]\n\u001b[0;32m     34\u001b[0m     \u001b[39mreturn\u001b[39;00m result\n\u001b[1;32m---> 35\u001b[0m Merge_Sort([\u001b[39m5\u001b[39;49m,\u001b[39m4\u001b[39;49m,\u001b[39m3\u001b[39;49m,\u001b[39m2\u001b[39;49m,\u001b[39m1\u001b[39;49m])\n",
      "Cell \u001b[1;32mIn[6], line 10\u001b[0m, in \u001b[0;36mMerge_Sort\u001b[1;34m(data)\u001b[0m\n\u001b[0;32m      6\u001b[0m Left_Half \u001b[39m=\u001b[39m data[mid]\n\u001b[0;32m      7\u001b[0m Right_Half \u001b[39m=\u001b[39m data[mid]\n\u001b[1;32m---> 10\u001b[0m Left_Half \u001b[39m=\u001b[39m Merge_Sort(Left_Half)\n\u001b[0;32m     11\u001b[0m Right_Half \u001b[39m=\u001b[39m Merge_Sort(Right_Half)\n\u001b[0;32m     13\u001b[0m \u001b[39mreturn\u001b[39;00m Merge(Left_Half,Right_Half)\n",
      "Cell \u001b[1;32mIn[6], line 2\u001b[0m, in \u001b[0;36mMerge_Sort\u001b[1;34m(data)\u001b[0m\n\u001b[0;32m      1\u001b[0m \u001b[39mdef\u001b[39;00m \u001b[39mMerge_Sort\u001b[39m(data):\n\u001b[1;32m----> 2\u001b[0m     \u001b[39mif\u001b[39;00m \u001b[39mint\u001b[39m(\u001b[39mlen\u001b[39;49m(data)) \u001b[39m<\u001b[39m\u001b[39m=\u001b[39m \u001b[39m1\u001b[39m:\n\u001b[0;32m      3\u001b[0m         \u001b[39mreturn\u001b[39;00m data\n\u001b[0;32m      5\u001b[0m     mid \u001b[39m=\u001b[39m \u001b[39mlen\u001b[39m(data)\u001b[39m/\u001b[39m\u001b[39m/\u001b[39m\u001b[39m2\u001b[39m\n",
      "\u001b[1;31mTypeError\u001b[0m: object of type 'int' has no len()"
     ]
    }
   ],
   "source": [
    "def Merge_Sort(data):\n",
    "    if int(len(data)) <= 1:\n",
    "        return data\n",
    "    \n",
    "    mid = len(data)//2\n",
    "    Left_Half = data[mid]\n",
    "    Right_Half = data[mid]\n",
    "\n",
    "\n",
    "    Left_Half = Merge_Sort(Left_Half)\n",
    "    Right_Half = Merge_Sort(Right_Half)\n",
    "\n",
    "    return Merge(Left_Half,Right_Half)\n",
    "\n",
    "\n",
    "def Merge(Left_Half,Right_Half):\n",
    "\n",
    "    result = []\n",
    "    Left_Index = 0\n",
    "    Right_Index = 0\n",
    "\n",
    "    while Left_Half < len(Left_Half) and Right_Half < len(Right_Half):\n",
    "        if Left_Half[Left_Half] < Right_Half[Right_Half]:\n",
    "            \n",
    "            result.append(Left_Half[Left_Half])\n",
    "            Left_Index += 1\n",
    "\n",
    "        else:\n",
    "            result.append(Right_Half[Right_Half])\n",
    "            Right_Index += 1\n",
    "    result += Left_Half[Left_Index]\n",
    "    result += Right_Half[Right_Index]\n",
    "    \n",
    "    return result\n",
    "Merge_Sort([5,4,3,2,1])"
   ]
  },
  {
   "cell_type": "code",
   "execution_count": 16,
   "metadata": {},
   "outputs": [
    {
     "ename": "TypeError",
     "evalue": "'int' object is not iterable",
     "output_type": "error",
     "traceback": [
      "\u001b[1;31m---------------------------------------------------------------------------\u001b[0m",
      "\u001b[1;31mTypeError\u001b[0m                                 Traceback (most recent call last)",
      "Cell \u001b[1;32mIn[16], line 48\u001b[0m\n\u001b[0;32m     44\u001b[0m         result \u001b[39m+\u001b[39m\u001b[39m=\u001b[39m right_half[right_index]\n\u001b[0;32m     46\u001b[0m     \u001b[39mreturn\u001b[39;00m result\n\u001b[1;32m---> 48\u001b[0m \u001b[39mprint\u001b[39m(merge_sort([\u001b[39m6\u001b[39;49m,\u001b[39m5\u001b[39;49m,\u001b[39m4\u001b[39;49m,\u001b[39m3\u001b[39;49m,\u001b[39m2\u001b[39;49m,\u001b[39m1\u001b[39;49m,\u001b[39m9\u001b[39;49m]))\n",
      "Cell \u001b[1;32mIn[16], line 10\u001b[0m, in \u001b[0;36mmerge_sort\u001b[1;34m(data)\u001b[0m\n\u001b[0;32m      6\u001b[0m left_half \u001b[39m=\u001b[39m data[:mid]\n\u001b[0;32m      7\u001b[0m right_half \u001b[39m=\u001b[39m data[mid:]\n\u001b[1;32m---> 10\u001b[0m left_half \u001b[39m=\u001b[39m merge_sort(left_half)\n\u001b[0;32m     11\u001b[0m right_half \u001b[39m=\u001b[39m merge_sort(right_half)\n\u001b[0;32m     14\u001b[0m \u001b[39mreturn\u001b[39;00m merge(left_half,right_half)\n",
      "Cell \u001b[1;32mIn[16], line 11\u001b[0m, in \u001b[0;36mmerge_sort\u001b[1;34m(data)\u001b[0m\n\u001b[0;32m      7\u001b[0m right_half \u001b[39m=\u001b[39m data[mid:]\n\u001b[0;32m     10\u001b[0m left_half \u001b[39m=\u001b[39m merge_sort(left_half)\n\u001b[1;32m---> 11\u001b[0m right_half \u001b[39m=\u001b[39m merge_sort(right_half)\n\u001b[0;32m     14\u001b[0m \u001b[39mreturn\u001b[39;00m merge(left_half,right_half)\n",
      "Cell \u001b[1;32mIn[16], line 14\u001b[0m, in \u001b[0;36mmerge_sort\u001b[1;34m(data)\u001b[0m\n\u001b[0;32m     10\u001b[0m left_half \u001b[39m=\u001b[39m merge_sort(left_half)\n\u001b[0;32m     11\u001b[0m right_half \u001b[39m=\u001b[39m merge_sort(right_half)\n\u001b[1;32m---> 14\u001b[0m \u001b[39mreturn\u001b[39;00m merge(left_half,right_half)\n",
      "Cell \u001b[1;32mIn[16], line 42\u001b[0m, in \u001b[0;36mmerge\u001b[1;34m(left_half, right_half)\u001b[0m\n\u001b[0;32m     35\u001b[0m         result\u001b[39m.\u001b[39mappend(right_half[right_index])\n\u001b[0;32m     38\u001b[0m         right_index \u001b[39m+\u001b[39m\u001b[39m=\u001b[39m \u001b[39m1\u001b[39m\n\u001b[1;32m---> 42\u001b[0m     result \u001b[39m+\u001b[39;49m\u001b[39m=\u001b[39;49m left_half[left_index]\n\u001b[0;32m     44\u001b[0m     result \u001b[39m+\u001b[39m\u001b[39m=\u001b[39m right_half[right_index]\n\u001b[0;32m     46\u001b[0m \u001b[39mreturn\u001b[39;00m result\n",
      "\u001b[1;31mTypeError\u001b[0m: 'int' object is not iterable"
     ]
    }
   ],
   "source": [
    "def merge_sort(data):\n",
    "    if len(data) <= 1:\n",
    "        return data\n",
    "    \n",
    "    mid = len(data)//2\n",
    "    left_half = data[:mid]\n",
    "    right_half = data[mid:]\n",
    "\n",
    "    left_half = merge_sort(left_half)\n",
    "    right_half = merge_sort(right_half)\n",
    "\n",
    "    return merge(left_half,right_half)\n",
    "\n",
    "def merge(left_half,right_half):\n",
    "    \n",
    "    result = []\n",
    "    left_index = 0\n",
    "    right_index = 0\n",
    "\n",
    "    while left_index < len(left_half) and right_index < len(right_half):\n",
    "        if left_half[left_index] < right_half[right_index]:\n",
    "            result.append(left_half[left_index])\n",
    "            left_index += 1\n",
    "        else:\n",
    "            result.append(right_half[right_index])\n",
    "            right_index += 1\n",
    "    result += left_half[left_index]\n",
    "    result += right_half[right_index]\n",
    "    return result\n",
    "print(merge_sort([6,5,4,3,2,1,9]))\n"
   ]
  },
  {
   "cell_type": "code",
   "execution_count": 2,
   "metadata": {},
   "outputs": [
    {
     "data": {
      "text/plain": [
       "516"
      ]
     },
     "execution_count": 2,
     "metadata": {},
     "output_type": "execute_result"
    }
   ],
   "source": [
    "def convert_distance(miles):\n",
    "    km = miles * 12     # approximately 1.6 km in 1 mile\n",
    "    return km\n",
    "convert_distance(43)\n"
   ]
  },
  {
   "cell_type": "code",
   "execution_count": 5,
   "metadata": {},
   "outputs": [
    {
     "data": {
      "text/plain": [
       "(4, 8)"
      ]
     },
     "execution_count": 5,
     "metadata": {},
     "output_type": "execute_result"
    }
   ],
   "source": [
    "def order_numbers(number1, number2):\n",
    "    if number2 > number1:\n",
    "        return number1, number2\n",
    "    else:\n",
    "        return number2, number1\n",
    "    \n",
    "order_numbers(8,4)\n"
   ]
  },
  {
   "cell_type": "code",
   "execution_count": 7,
   "metadata": {},
   "outputs": [
    {
     "ename": "IndentationError",
     "evalue": "expected an indented block after function definition on line 1 (14871031.py, line 4)",
     "output_type": "error",
     "traceback": [
      "\u001b[1;36m  Cell \u001b[1;32mIn[7], line 4\u001b[1;36m\u001b[0m\n\u001b[1;33m    print_seconds(1,30,55)\u001b[0m\n\u001b[1;37m    ^\u001b[0m\n\u001b[1;31mIndentationError\u001b[0m\u001b[1;31m:\u001b[0m expected an indented block after function definition on line 1\n"
     ]
    }
   ],
   "source": [
    "def print_seconds(hours,minutes, seconds):\n",
    " \tprint(hours,minutes,seconds)\n",
    "\t\n",
    "print_seconds(1,30,55)\n"
   ]
  }
 ],
 "metadata": {
  "kernelspec": {
   "display_name": "Python 3",
   "language": "python",
   "name": "python3"
  },
  "language_info": {
   "codemirror_mode": {
    "name": "ipython",
    "version": 3
   },
   "file_extension": ".py",
   "mimetype": "text/x-python",
   "name": "python",
   "nbconvert_exporter": "python",
   "pygments_lexer": "ipython3",
   "version": "3.11.1"
  },
  "orig_nbformat": 4
 },
 "nbformat": 4,
 "nbformat_minor": 2
}
